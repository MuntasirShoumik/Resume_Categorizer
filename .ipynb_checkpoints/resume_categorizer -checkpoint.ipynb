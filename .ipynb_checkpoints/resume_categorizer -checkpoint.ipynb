{
 "cells": [
  {
   "cell_type": "code",
   "execution_count": 1,
   "id": "115cbf37",
   "metadata": {},
   "outputs": [],
   "source": [
    "import numpy as np\n",
    "import pandas as pd\n",
    "import matplotlib.pyplot as plt\n",
    "import seaborn as sns\n",
    "\n",
    "%matplotlib inline\n",
    "\n",
    "import warnings\n",
    "warnings.filterwarnings('ignore')\n"
   ]
  },
  {
   "cell_type": "markdown",
   "id": "f35c7b01",
   "metadata": {},
   "source": [
    "# Exploratory Data Analysis"
   ]
  },
  {
   "cell_type": "code",
   "execution_count": 2,
   "id": "41e11cd2",
   "metadata": {},
   "outputs": [],
   "source": [
    "\n",
    "df = pd.read_csv(\"D:/python/ML PROJECT/Resume_Categorizer/DATA/Resume/Resume.csv\")"
   ]
  },
  {
   "cell_type": "code",
   "execution_count": 3,
   "id": "610b2769",
   "metadata": {},
   "outputs": [
    {
     "data": {
      "text/html": [
       "<div>\n",
       "<style scoped>\n",
       "    .dataframe tbody tr th:only-of-type {\n",
       "        vertical-align: middle;\n",
       "    }\n",
       "\n",
       "    .dataframe tbody tr th {\n",
       "        vertical-align: top;\n",
       "    }\n",
       "\n",
       "    .dataframe thead th {\n",
       "        text-align: right;\n",
       "    }\n",
       "</style>\n",
       "<table border=\"1\" class=\"dataframe\">\n",
       "  <thead>\n",
       "    <tr style=\"text-align: right;\">\n",
       "      <th></th>\n",
       "      <th>ID</th>\n",
       "      <th>Resume_str</th>\n",
       "      <th>Resume_html</th>\n",
       "      <th>Category</th>\n",
       "    </tr>\n",
       "  </thead>\n",
       "  <tbody>\n",
       "    <tr>\n",
       "      <th>0</th>\n",
       "      <td>16852973</td>\n",
       "      <td>HR ADMINISTRATOR/MARKETING ASSOCIATE\\...</td>\n",
       "      <td>&lt;div class=\"fontsize fontface vmargins hmargin...</td>\n",
       "      <td>HR</td>\n",
       "    </tr>\n",
       "    <tr>\n",
       "      <th>1</th>\n",
       "      <td>22323967</td>\n",
       "      <td>HR SPECIALIST, US HR OPERATIONS      ...</td>\n",
       "      <td>&lt;div class=\"fontsize fontface vmargins hmargin...</td>\n",
       "      <td>HR</td>\n",
       "    </tr>\n",
       "    <tr>\n",
       "      <th>2</th>\n",
       "      <td>33176873</td>\n",
       "      <td>HR DIRECTOR       Summary      Over 2...</td>\n",
       "      <td>&lt;div class=\"fontsize fontface vmargins hmargin...</td>\n",
       "      <td>HR</td>\n",
       "    </tr>\n",
       "    <tr>\n",
       "      <th>3</th>\n",
       "      <td>27018550</td>\n",
       "      <td>HR SPECIALIST       Summary    Dedica...</td>\n",
       "      <td>&lt;div class=\"fontsize fontface vmargins hmargin...</td>\n",
       "      <td>HR</td>\n",
       "    </tr>\n",
       "    <tr>\n",
       "      <th>4</th>\n",
       "      <td>17812897</td>\n",
       "      <td>HR MANAGER         Skill Highlights  ...</td>\n",
       "      <td>&lt;div class=\"fontsize fontface vmargins hmargin...</td>\n",
       "      <td>HR</td>\n",
       "    </tr>\n",
       "  </tbody>\n",
       "</table>\n",
       "</div>"
      ],
      "text/plain": [
       "         ID                                         Resume_str  \\\n",
       "0  16852973           HR ADMINISTRATOR/MARKETING ASSOCIATE\\...   \n",
       "1  22323967           HR SPECIALIST, US HR OPERATIONS      ...   \n",
       "2  33176873           HR DIRECTOR       Summary      Over 2...   \n",
       "3  27018550           HR SPECIALIST       Summary    Dedica...   \n",
       "4  17812897           HR MANAGER         Skill Highlights  ...   \n",
       "\n",
       "                                         Resume_html Category  \n",
       "0  <div class=\"fontsize fontface vmargins hmargin...       HR  \n",
       "1  <div class=\"fontsize fontface vmargins hmargin...       HR  \n",
       "2  <div class=\"fontsize fontface vmargins hmargin...       HR  \n",
       "3  <div class=\"fontsize fontface vmargins hmargin...       HR  \n",
       "4  <div class=\"fontsize fontface vmargins hmargin...       HR  "
      ]
     },
     "execution_count": 3,
     "metadata": {},
     "output_type": "execute_result"
    }
   ],
   "source": [
    "df.head()"
   ]
  },
  {
   "cell_type": "code",
   "execution_count": 4,
   "id": "ade0f6e4",
   "metadata": {},
   "outputs": [
    {
     "name": "stdout",
     "output_type": "stream",
     "text": [
      "<class 'pandas.core.frame.DataFrame'>\n",
      "RangeIndex: 2484 entries, 0 to 2483\n",
      "Data columns (total 4 columns):\n",
      " #   Column       Non-Null Count  Dtype \n",
      "---  ------       --------------  ----- \n",
      " 0   ID           2484 non-null   int64 \n",
      " 1   Resume_str   2484 non-null   object\n",
      " 2   Resume_html  2484 non-null   object\n",
      " 3   Category     2484 non-null   object\n",
      "dtypes: int64(1), object(3)\n",
      "memory usage: 77.8+ KB\n"
     ]
    }
   ],
   "source": [
    "df.info()"
   ]
  },
  {
   "cell_type": "markdown",
   "id": "80e45db8",
   "metadata": {},
   "source": [
    "#### Checking for null value"
   ]
  },
  {
   "cell_type": "code",
   "execution_count": 5,
   "id": "680e3810",
   "metadata": {},
   "outputs": [
    {
     "data": {
      "text/plain": [
       "ID             0\n",
       "Resume_str     0\n",
       "Resume_html    0\n",
       "Category       0\n",
       "dtype: int64"
      ]
     },
     "execution_count": 5,
     "metadata": {},
     "output_type": "execute_result"
    }
   ],
   "source": [
    "df.isnull().sum()"
   ]
  },
  {
   "cell_type": "code",
   "execution_count": 6,
   "id": "9334ff0f",
   "metadata": {},
   "outputs": [
    {
     "data": {
      "text/plain": [
       "<AxesSubplot:>"
      ]
     },
     "execution_count": 6,
     "metadata": {},
     "output_type": "execute_result"
    },
    {
     "data": {
      "image/png": "[encoded data removed]",
      "text/plain": [
       "<Figure size 720x432 with 2 Axes>"
      ]
     },
     "metadata": {
      "needs_background": "light"
     },
     "output_type": "display_data"
    }
   ],
   "source": [
    "plt.figure(figsize=(10,6))\n",
    "sns.heatmap(data=df.isnull(),cmap='viridis')"
   ]
  },
  {
   "cell_type": "markdown",
   "id": "afb9a862",
   "metadata": {},
   "source": [
    "No missing values detected in the heatmap"
   ]
  },
  {
   "cell_type": "markdown",
   "id": "47ac2250",
   "metadata": {},
   "source": [
    "#### Number of resume each category have"
   ]
  },
  {
   "cell_type": "code",
   "execution_count": 7,
   "id": "540f78bd",
   "metadata": {},
   "outputs": [
    {
     "data": {
      "text/plain": [
       "INFORMATION-TECHNOLOGY    120\n",
       "BUSINESS-DEVELOPMENT      120\n",
       "FINANCE                   118\n",
       "ADVOCATE                  118\n",
       "ACCOUNTANT                118\n",
       "ENGINEERING               118\n",
       "CHEF                      118\n",
       "AVIATION                  117\n",
       "FITNESS                   117\n",
       "SALES                     116\n",
       "BANKING                   115\n",
       "HEALTHCARE                115\n",
       "CONSULTANT                115\n",
       "CONSTRUCTION              112\n",
       "PUBLIC-RELATIONS          111\n",
       "HR                        110\n",
       "DESIGNER                  107\n",
       "ARTS                      103\n",
       "TEACHER                   102\n",
       "APPAREL                    97\n",
       "DIGITAL-MEDIA              96\n",
       "AGRICULTURE                63\n",
       "AUTOMOBILE                 36\n",
       "BPO                        22\n",
       "Name: Category, dtype: int64"
      ]
     },
     "execution_count": 7,
     "metadata": {},
     "output_type": "execute_result"
    }
   ],
   "source": [
    "df['Category'].value_counts()"
   ]
  },
  {
   "cell_type": "markdown",
   "id": "b4b17f9c",
   "metadata": {},
   "source": [
    "Visualizing in a bar plot"
   ]
  },
  {
   "cell_type": "code",
   "execution_count": 8,
   "id": "882d3d39",
   "metadata": {},
   "outputs": [
    {
     "data": {
      "text/plain": [
       "<AxesSubplot:xlabel='Category', ylabel='count'>"
      ]
     },
     "execution_count": 8,
     "metadata": {},
     "output_type": "execute_result"
    },
    {
     "data": {
      "image/png": "[encoded data removed]",
      "text/plain": [
       "<Figure size 1584x576 with 1 Axes>"
      ]
     },
     "metadata": {
      "needs_background": "light"
     },
     "output_type": "display_data"
    }
   ],
   "source": [
    "plt.figure(figsize=(22,8))\n",
    "plt.xticks(rotation=45)\n",
    "sns.countplot(x=\"Category\",data=df)\n"
   ]
  },
  {
   "cell_type": "markdown",
   "id": "5dfbd0c6",
   "metadata": {},
   "source": [
    "# Data Preprocessing"
   ]
  },
  {
   "cell_type": "code",
   "execution_count": 9,
   "id": "8d2de394",
   "metadata": {},
   "outputs": [],
   "source": [
    "import nltk\n",
    "from nltk.corpus import stopwords\n",
    "from sklearn.model_selection import train_test_split\n",
    "from sklearn.preprocessing import LabelEncoder\n",
    "from keras.preprocessing.text import Tokenizer\n",
    "from tensorflow.keras.preprocessing.sequence import pad_sequences"
   ]
  },
  {
   "cell_type": "code",
   "execution_count": 10,
   "id": "ef6d54fe",
   "metadata": {},
   "outputs": [
    {
     "name": "stderr",
     "output_type": "stream",
     "text": [
      "[nltk_data] Downloading package stopwords to\n",
      "[nltk_data]     C:\\Users\\Lenovo\\AppData\\Roaming\\nltk_data...\n",
      "[nltk_data]   Package stopwords is already up-to-date!\n"
     ]
    }
   ],
   "source": [
    "# Downloading English stop words. later on, I need to remove stop words from the dataset\n",
    "nltk.download('stopwords')\n",
    "stop_words = set(stopwords.words('english'))"
   ]
  },
  {
   "cell_type": "markdown",
   "id": "6a02b712",
   "metadata": {},
   "source": [
    "Preprocessing function"
   ]
  },
  {
   "cell_type": "code",
   "execution_count": 11,
   "id": "898cc606",
   "metadata": {},
   "outputs": [],
   "source": [
    "def preprocess_text(text):\n",
    "    # tokenizing the recived text\n",
    "    words = nltk.word_tokenize(text)\n",
    "    # converting upper case alphabet to lower case and checking if the word is stop word or not if not then putting in to the variable\n",
    "    words = [word.lower() for word in words if word.isalpha() and word.lower() not in stop_words] \n",
    "    return ' '.join(words)"
   ]
  },
  {
   "cell_type": "code",
   "execution_count": 12,
   "id": "8f8cc450",
   "metadata": {},
   "outputs": [],
   "source": [
    " # Appling the function to 'Resume_str' column and putting the preprocessed cleaned data to a new column name 'Cleaned_Resume'\n",
    "df['Cleaned_Resume'] = df['Resume_str'].apply(preprocess_text)"
   ]
  },
  {
   "cell_type": "markdown",
   "id": "bbf230a6",
   "metadata": {},
   "source": [
    "I only need 'Cleaned_Resume' as training variable and 'Category' as label to build a model"
   ]
  },
  {
   "cell_type": "code",
   "execution_count": 13,
   "id": "0a826775",
   "metadata": {},
   "outputs": [],
   "source": [
    "X = df['Cleaned_Resume']\n",
    "y = df['Category']"
   ]
  },
  {
   "cell_type": "markdown",
   "id": "acb35e5b",
   "metadata": {},
   "source": [
    "# Deep learning approach"
   ]
  },
  {
   "cell_type": "code",
   "execution_count": 14,
   "id": "4a95391f",
   "metadata": {},
   "outputs": [],
   "source": [
    "label_encoder = LabelEncoder()\n",
    "y_encoded = label_encoder.fit_transform(y)"
   ]
  },
  {
   "cell_type": "markdown",
   "id": "1f849b36",
   "metadata": {},
   "source": [
    "Train Test split"
   ]
  },
  {
   "cell_type": "code",
   "execution_count": 15,
   "id": "63a1fafd",
   "metadata": {},
   "outputs": [],
   "source": [
    "# 70% in train and 30% in test, validation \n",
    "X_train, X_temp, y_train, y_temp = train_test_split(X, y_encoded, test_size=0.3, random_state=42)\n",
    "# from 30% I am keeping 50% for test and 50% for validation\n",
    "X_val, X_test, y_val, y_test = train_test_split(X_temp, y_temp, test_size=0.5, random_state=42) \n"
   ]
  },
  {
   "cell_type": "markdown",
   "id": "804394bd",
   "metadata": {},
   "source": [
    "Formatting the data to fit a LSTM"
   ]
  },
  {
   "cell_type": "code",
   "execution_count": 16,
   "id": "ee1da150",
   "metadata": {},
   "outputs": [],
   "source": [
    "# maximum number of unique words in the vocabulary\n",
    "max_words = 10000 \n",
    "tokenizer = Tokenizer(num_words=max_words)\n",
    "tokenizer.fit_on_texts(X_train)"
   ]
  },
  {
   "cell_type": "code",
   "execution_count": 17,
   "id": "f72e4255",
   "metadata": {},
   "outputs": [],
   "source": [
    "X_train_seq = tokenizer.texts_to_sequences(X_train)\n",
    "X_val_seq = tokenizer.texts_to_sequences(X_val)\n",
    "X_test_seq = tokenizer.texts_to_sequences(X_test)\n"
   ]
  },
  {
   "cell_type": "code",
   "execution_count": 18,
   "id": "e3adb3a3",
   "metadata": {},
   "outputs": [],
   "source": [
    "#  maximum length of the input sequences\n",
    "max_sequence_length = 500   \n",
    "X_train_pad = pad_sequences(X_train_seq, maxlen=max_sequence_length)\n",
    "X_val_pad = pad_sequences(X_val_seq, maxlen=max_sequence_length)\n",
    "X_test_pad = pad_sequences(X_test_seq, maxlen=max_sequence_length)\n"
   ]
  },
  {
   "cell_type": "code",
   "execution_count": 19,
   "id": "dab009e5",
   "metadata": {},
   "outputs": [],
   "source": [
    "vocab_size = min(max_words, len(tokenizer.word_index) + 1)\n",
    "# dimensionality of the word embeddings\n",
    "embedding_dim = 200 \n"
   ]
  },
  {
   "cell_type": "markdown",
   "id": "8c264570",
   "metadata": {},
   "source": [
    "### Building model"
   ]
  },
  {
   "cell_type": "code",
   "execution_count": 20,
   "id": "b22664f7",
   "metadata": {},
   "outputs": [],
   "source": [
    "\n",
    "from keras.models import Sequential\n",
    "from keras.layers import Embedding, LSTM, Dense, Dropout, Bidirectional"
   ]
  },
  {
   "cell_type": "markdown",
   "id": "dffdbc99",
   "metadata": {},
   "source": [
    "building an LSTM architecture"
   ]
  },
  {
   "cell_type": "code",
   "execution_count": 21,
   "id": "75cb1ebd",
   "metadata": {},
   "outputs": [
    {
     "name": "stdout",
     "output_type": "stream",
     "text": [
      "Model: \"sequential\"\n",
      "_________________________________________________________________\n",
      " Layer (type)                Output Shape              Param #   \n",
      "=================================================================\n",
      " embedding (Embedding)       (None, 500, 200)          2000000   \n",
      "                                                                 \n",
      " bidirectional (Bidirectiona  (None, 500, 256)         336896    \n",
      " l)                                                              \n",
      "                                                                 \n",
      " bidirectional_1 (Bidirectio  (None, 500, 128)         164352    \n",
      " nal)                                                            \n",
      "                                                                 \n",
      " bidirectional_2 (Bidirectio  (None, 64)               41216     \n",
      " nal)                                                            \n",
      "                                                                 \n",
      " dense (Dense)               (None, 250)               16250     \n",
      "                                                                 \n",
      " dense_1 (Dense)             (None, 500)               125500    \n",
      "                                                                 \n",
      " dense_2 (Dense)             (None, 250)               125250    \n",
      "                                                                 \n",
      " dense_3 (Dense)             (None, 24)                6024      \n",
      "                                                                 \n",
      "=================================================================\n",
      "Total params: 2,815,488\n",
      "Trainable params: 2,815,488\n",
      "Non-trainable params: 0\n",
      "_________________________________________________________________\n"
     ]
    }
   ],
   "source": [
    "model = Sequential()\n",
    "model.add(Embedding(vocab_size, embedding_dim, input_length=max_sequence_length))\n",
    "model.add(Bidirectional(LSTM(128, return_sequences=True)))\n",
    "model.add(Bidirectional(LSTM(64,return_sequences=True)))\n",
    "model.add(Bidirectional(LSTM(32)))\n",
    "\n",
    "model.add(Dense(250))\n",
    "model.add(Dense(500))\n",
    "model.add(Dense(250))\n",
    "model.add(Dense(len(label_encoder.classes_), activation='softmax'))\n",
    "\n",
    "model.compile(loss='sparse_categorical_crossentropy', optimizer='adam', metrics=['accuracy'])\n",
    "model.summary()\n"
   ]
  },
  {
   "cell_type": "markdown",
   "id": "5796f775",
   "metadata": {},
   "source": [
    "Training the model"
   ]
  },
  {
   "cell_type": "code",
   "execution_count": 22,
   "id": "1393afe6",
   "metadata": {},
   "outputs": [
    {
     "name": "stdout",
     "output_type": "stream",
     "text": [
      "Epoch 1/30\n",
      "55/55 [==============================] - 145s 2s/step - loss: 3.0973 - accuracy: 0.0708 - val_loss: 2.9578 - val_accuracy: 0.0992\n",
      "Epoch 2/30\n",
      "55/55 [==============================] - 123s 2s/step - loss: 2.5750 - accuracy: 0.2140 - val_loss: 2.7370 - val_accuracy: 0.1903\n",
      "Epoch 3/30\n",
      "55/55 [==============================] - 125s 2s/step - loss: 1.8876 - accuracy: 0.4028 - val_loss: 2.9731 - val_accuracy: 0.1984\n",
      "Epoch 4/30\n",
      "55/55 [==============================] - 123s 2s/step - loss: 1.2322 - accuracy: 0.5817 - val_loss: 3.8309 - val_accuracy: 0.2225\n",
      "Epoch 5/30\n",
      "55/55 [==============================] - 124s 2s/step - loss: 0.6964 - accuracy: 0.7566 - val_loss: 5.3322 - val_accuracy: 0.2011\n",
      "Epoch 6/30\n",
      "55/55 [==============================] - 123s 2s/step - loss: 0.4680 - accuracy: 0.8504 - val_loss: 5.5431 - val_accuracy: 0.2091\n",
      "Epoch 7/30\n",
      "55/55 [==============================] - 126s 2s/step - loss: 0.3946 - accuracy: 0.8688 - val_loss: 5.8149 - val_accuracy: 0.2091\n",
      "Epoch 8/30\n",
      "55/55 [==============================] - 128s 2s/step - loss: 0.3102 - accuracy: 0.9039 - val_loss: 6.0748 - val_accuracy: 0.1957\n",
      "Epoch 9/30\n",
      "55/55 [==============================] - 125s 2s/step - loss: 0.2251 - accuracy: 0.9275 - val_loss: 7.2203 - val_accuracy: 0.2118\n",
      "Epoch 10/30\n",
      "55/55 [==============================] - 126s 2s/step - loss: 0.0907 - accuracy: 0.9718 - val_loss: 8.4070 - val_accuracy: 0.2172\n",
      "Epoch 11/30\n",
      "55/55 [==============================] - 128s 2s/step - loss: 0.1429 - accuracy: 0.9540 - val_loss: 7.9403 - val_accuracy: 0.1877\n",
      "Epoch 12/30\n",
      "55/55 [==============================] - 128s 2s/step - loss: 0.1752 - accuracy: 0.9419 - val_loss: 8.2342 - val_accuracy: 0.1903\n",
      "Epoch 13/30\n",
      "55/55 [==============================] - 128s 2s/step - loss: 0.2125 - accuracy: 0.9384 - val_loss: 8.8176 - val_accuracy: 0.2038\n",
      "Epoch 14/30\n",
      "55/55 [==============================] - 122s 2s/step - loss: 0.1997 - accuracy: 0.9304 - val_loss: 8.4823 - val_accuracy: 0.1903\n",
      "Epoch 15/30\n",
      "55/55 [==============================] - 118s 2s/step - loss: 0.0996 - accuracy: 0.9649 - val_loss: 9.0383 - val_accuracy: 0.2172\n",
      "Epoch 16/30\n",
      "55/55 [==============================] - 116s 2s/step - loss: 0.0536 - accuracy: 0.9827 - val_loss: 9.9163 - val_accuracy: 0.2252\n",
      "Epoch 17/30\n",
      "55/55 [==============================] - 119s 2s/step - loss: 0.0886 - accuracy: 0.9735 - val_loss: 9.1861 - val_accuracy: 0.1930\n",
      "Epoch 18/30\n",
      "55/55 [==============================] - 119s 2s/step - loss: 0.0909 - accuracy: 0.9672 - val_loss: 9.7453 - val_accuracy: 0.1957\n",
      "Epoch 19/30\n",
      "55/55 [==============================] - 123s 2s/step - loss: 0.1262 - accuracy: 0.9649 - val_loss: 9.9170 - val_accuracy: 0.2011\n",
      "Epoch 20/30\n",
      "55/55 [==============================] - 122s 2s/step - loss: 0.1163 - accuracy: 0.9626 - val_loss: 9.6942 - val_accuracy: 0.1850\n",
      "Epoch 21/30\n",
      "55/55 [==============================] - 122s 2s/step - loss: 0.1075 - accuracy: 0.9689 - val_loss: 9.2205 - val_accuracy: 0.2386\n",
      "Epoch 22/30\n",
      "55/55 [==============================] - 121s 2s/step - loss: 0.1680 - accuracy: 0.9465 - val_loss: 10.1056 - val_accuracy: 0.2011\n",
      "Epoch 23/30\n",
      "55/55 [==============================] - 120s 2s/step - loss: 0.3181 - accuracy: 0.9102 - val_loss: 8.1711 - val_accuracy: 0.2306\n",
      "Epoch 24/30\n",
      "55/55 [==============================] - 121s 2s/step - loss: 0.1411 - accuracy: 0.9568 - val_loss: 8.3898 - val_accuracy: 0.2064\n",
      "Epoch 25/30\n",
      "55/55 [==============================] - 121s 2s/step - loss: 0.0581 - accuracy: 0.9816 - val_loss: 9.2059 - val_accuracy: 0.2091\n",
      "Epoch 26/30\n",
      "55/55 [==============================] - 121s 2s/step - loss: 0.0330 - accuracy: 0.9908 - val_loss: 9.2783 - val_accuracy: 0.2306\n",
      "Epoch 27/30\n",
      "55/55 [==============================] - 121s 2s/step - loss: 0.0114 - accuracy: 0.9988 - val_loss: 9.7542 - val_accuracy: 0.2198\n",
      "Epoch 28/30\n",
      "55/55 [==============================] - 118s 2s/step - loss: 8.4932e-04 - accuracy: 1.0000 - val_loss: 9.8259 - val_accuracy: 0.2279\n",
      "Epoch 29/30\n",
      "55/55 [==============================] - 117s 2s/step - loss: 3.3140e-04 - accuracy: 1.0000 - val_loss: 9.8716 - val_accuracy: 0.2279\n",
      "Epoch 30/30\n",
      "55/55 [==============================] - 117s 2s/step - loss: 2.6291e-04 - accuracy: 1.0000 - val_loss: 9.9202 - val_accuracy: 0.2306\n"
     ]
    }
   ],
   "source": [
    "history = model.fit(X_train_pad, y_train, validation_data=(X_val_pad, y_val), epochs=30, batch_size=32)\n"
   ]
  },
  {
   "cell_type": "markdown",
   "id": "8d606033",
   "metadata": {},
   "source": [
    "Showing the training performance"
   ]
  },
  {
   "cell_type": "markdown",
   "id": "b3684d99",
   "metadata": {},
   "source": [
    "Training accuracy:"
   ]
  },
  {
   "cell_type": "code",
   "execution_count": 23,
   "id": "f7a9c30d",
   "metadata": {},
   "outputs": [
    {
     "data": {
      "image/png": "[encoded data removed]",
      "text/plain": [
       "<Figure size 1008x504 with 1 Axes>"
      ]
     },
     "metadata": {
      "needs_background": "light"
     },
     "output_type": "display_data"
    }
   ],
   "source": [
    "acc = history.history['accuracy']\n",
    "val_acc = history.history['val_accuracy']\n",
    "epochs = range(len(acc))\n",
    "fig = plt.figure(figsize=(14,7))\n",
    "plt.plot(epochs,acc,'r',label=\"Training Accuracy\")\n",
    "plt.plot(epochs,val_acc,'b',label=\"Validation Accuracy\")\n",
    "plt.legend(loc='upper left')\n",
    "plt.show()\n"
   ]
  },
  {
   "cell_type": "markdown",
   "id": "8d6bf6ef",
   "metadata": {},
   "source": [
    "Training loss:"
   ]
  },
  {
   "cell_type": "code",
   "execution_count": 24,
   "id": "b8378d1e",
   "metadata": {},
   "outputs": [
    {
     "data": {
      "image/png": "[encoded data removed]",
      "text/plain": [
       "<Figure size 1008x504 with 1 Axes>"
      ]
     },
     "metadata": {
      "needs_background": "light"
     },
     "output_type": "display_data"
    }
   ],
   "source": [
    "\n",
    "loss = history.history['loss']\n",
    "val_loss = history.history['val_loss']\n",
    "epochs = range(len(loss))\n",
    "fig = plt.figure(figsize=(14,7))\n",
    "plt.plot(epochs,loss,'r',label=\"Training loss\")\n",
    "plt.plot(epochs,val_loss,'b',label=\"Validation loss\")\n",
    "plt.legend(loc='upper left')\n",
    "plt.show()"
   ]
  },
  {
   "cell_type": "markdown",
   "id": "701835fd",
   "metadata": {},
   "source": [
    "### Model evaluation on test set"
   ]
  },
  {
   "cell_type": "code",
   "execution_count": 25,
   "id": "2d65c40a",
   "metadata": {},
   "outputs": [
    {
     "name": "stdout",
     "output_type": "stream",
     "text": [
      "12/12 [==============================] - 11s 681ms/step\n",
      "Accuracy: 0.2172\n",
      "Classification Report:\n",
      "                        precision    recall  f1-score   support\n",
      "\n",
      "            ACCOUNTANT       0.39      0.44      0.41        16\n",
      "              ADVOCATE       0.00      0.00      0.00         9\n",
      "           AGRICULTURE       0.00      0.00      0.00         6\n",
      "               APPAREL       0.14      0.22      0.17        18\n",
      "                  ARTS       0.09      0.06      0.07        17\n",
      "            AUTOMOBILE       0.00      0.00      0.00         3\n",
      "              AVIATION       0.27      0.24      0.25        17\n",
      "               BANKING       0.18      0.12      0.15        16\n",
      "                   BPO       0.00      0.00      0.00         2\n",
      "  BUSINESS-DEVELOPMENT       0.12      0.15      0.14        13\n",
      "                  CHEF       0.53      0.45      0.49        20\n",
      "          CONSTRUCTION       0.45      0.32      0.38        28\n",
      "            CONSULTANT       0.15      0.08      0.11        25\n",
      "              DESIGNER       0.33      0.26      0.29        19\n",
      "         DIGITAL-MEDIA       0.33      0.17      0.22        12\n",
      "           ENGINEERING       0.15      0.18      0.16        17\n",
      "               FINANCE       0.29      0.31      0.30        16\n",
      "               FITNESS       0.29      0.37      0.33        19\n",
      "            HEALTHCARE       0.07      0.05      0.06        19\n",
      "                    HR       0.44      0.57      0.50        14\n",
      "INFORMATION-TECHNOLOGY       0.14      0.11      0.12        18\n",
      "      PUBLIC-RELATIONS       0.31      0.33      0.32        12\n",
      "                 SALES       0.08      0.10      0.09        21\n",
      "               TEACHER       0.15      0.12      0.14        16\n",
      "\n",
      "              accuracy                           0.22       373\n",
      "             macro avg       0.21      0.19      0.20       373\n",
      "          weighted avg       0.23      0.22      0.22       373\n",
      "\n"
     ]
    }
   ],
   "source": [
    "from sklearn.metrics import classification_report, accuracy_score\n",
    "\n",
    "def evaluate_model(model, X_test, y_test, label_encoder):\n",
    "    y_pred_probs = model.predict(X_test)\n",
    "    y_pred = np.argmax(y_pred_probs, axis=-1)\n",
    "    y_true = y_test\n",
    "    \n",
    "    # Calculating accuracy\n",
    "    accuracy = accuracy_score(y_true, y_pred)\n",
    "    \n",
    "    # Converting predicted indices to category labels\n",
    "    predicted_labels = label_encoder.inverse_transform(y_pred)\n",
    "    true_labels = label_encoder.inverse_transform(y_true)\n",
    "    \n",
    "    # Generating classification report\n",
    "    class_report = classification_report(true_labels, predicted_labels)\n",
    "    \n",
    "    return accuracy, class_report\n",
    "\n",
    "\n",
    "accuracy, class_report = evaluate_model(model, X_test_pad, y_test, label_encoder)\n",
    "\n",
    "print(f\"Accuracy: {accuracy:.4f}\")\n",
    "print(\"Classification Report:\")\n",
    "print(class_report)\n"
   ]
  },
  {
   "cell_type": "markdown",
   "id": "27c2f8de",
   "metadata": {},
   "source": [
    "# Machine Learning approach"
   ]
  },
  {
   "cell_type": "code",
   "execution_count": 26,
   "id": "727bd8df",
   "metadata": {},
   "outputs": [],
   "source": [
    "from sklearn.feature_extraction.text import TfidfVectorizer\n",
    "from sklearn.model_selection import train_test_split\n",
    "from sklearn.svm import SVC\n",
    "from sklearn.linear_model import LogisticRegression\n",
    "from sklearn.metrics import classification_report\n"
   ]
  },
  {
   "cell_type": "code",
   "execution_count": 27,
   "id": "b5b91c70",
   "metadata": {},
   "outputs": [],
   "source": [
    "# Creates vectorizer\n",
    "vectorizer = TfidfVectorizer()\n",
    "\n",
    "# Vectorizing resume text\n",
    "X = vectorizer.fit_transform(df['Cleaned_Resume'])\n",
    "y = df['Category']"
   ]
  },
  {
   "cell_type": "markdown",
   "id": "8d416a39",
   "metadata": {},
   "source": [
    "Train Test split"
   ]
  },
  {
   "cell_type": "code",
   "execution_count": 28,
   "id": "76a5ec32",
   "metadata": {},
   "outputs": [],
   "source": [
    "# Split the data into train and test sets 80% on train 20% on test\n",
    "X_train, X_test, y_train, y_test = train_test_split(X, y, test_size=0.2, random_state=42)"
   ]
  },
  {
   "cell_type": "markdown",
   "id": "ae07b068",
   "metadata": {},
   "source": [
    "### Training an SVM"
   ]
  },
  {
   "cell_type": "markdown",
   "id": "39769ec1",
   "metadata": {},
   "source": [
    "I have chosen Support Vector Machines (SVM) because SVM performs well in high-dimensional spaces which makes it suitable for text classification tasks. I have also experimented with other algorithms like Decision Trees, Random forest and Naive Bayes but SVM showed better performance."
   ]
  },
  {
   "cell_type": "code",
   "execution_count": 29,
   "id": "a93f8ea7",
   "metadata": {},
   "outputs": [
    {
     "data": {
      "text/plain": [
       "SVC(kernel='linear')"
      ]
     },
     "execution_count": 29,
     "metadata": {},
     "output_type": "execute_result"
    }
   ],
   "source": [
    "# Initialize and train the SVM model\n",
    "model = SVC(kernel='linear')\n",
    "model.fit(X_train, y_train)"
   ]
  },
  {
   "cell_type": "markdown",
   "id": "b7050972",
   "metadata": {},
   "source": [
    "### Model evaluation"
   ]
  },
  {
   "cell_type": "code",
   "execution_count": 30,
   "id": "613b7e38",
   "metadata": {},
   "outputs": [
    {
     "name": "stdout",
     "output_type": "stream",
     "text": [
      "                        precision    recall  f1-score   support\n",
      "\n",
      "            ACCOUNTANT       0.78      0.86      0.82        29\n",
      "              ADVOCATE       0.58      0.63      0.60        30\n",
      "           AGRICULTURE       1.00      0.12      0.22         8\n",
      "               APPAREL       0.50      0.40      0.44        20\n",
      "                  ARTS       0.11      0.11      0.11        18\n",
      "            AUTOMOBILE       1.00      0.33      0.50         6\n",
      "              AVIATION       0.74      0.81      0.77        21\n",
      "               BANKING       0.70      0.70      0.70        23\n",
      "                   BPO       0.00      0.00      0.00         2\n",
      "  BUSINESS-DEVELOPMENT       0.79      0.56      0.65        27\n",
      "                  CHEF       0.84      0.67      0.74        24\n",
      "          CONSTRUCTION       0.89      0.74      0.81        34\n",
      "            CONSULTANT       0.28      0.35      0.31        20\n",
      "              DESIGNER       0.80      0.84      0.82        19\n",
      "         DIGITAL-MEDIA       0.94      0.68      0.79        25\n",
      "           ENGINEERING       0.56      0.67      0.61        21\n",
      "               FINANCE       0.61      0.58      0.59        19\n",
      "               FITNESS       0.89      0.42      0.57        19\n",
      "            HEALTHCARE       0.32      0.45      0.38        20\n",
      "                    HR       0.75      0.83      0.79        18\n",
      "INFORMATION-TECHNOLOGY       0.55      0.85      0.67        26\n",
      "      PUBLIC-RELATIONS       0.61      0.65      0.63        17\n",
      "                 SALES       0.58      0.76      0.66        29\n",
      "               TEACHER       0.65      0.68      0.67        22\n",
      "\n",
      "              accuracy                           0.63       497\n",
      "             macro avg       0.64      0.57      0.58       497\n",
      "          weighted avg       0.66      0.63      0.63       497\n",
      "\n"
     ]
    }
   ],
   "source": [
    "y_pred = model.predict(X_test)\n",
    "report = classification_report(y_test, y_pred)\n",
    "print(report)"
   ]
  },
  {
   "cell_type": "markdown",
   "id": "79cc1d94",
   "metadata": {},
   "source": [
    "# Choosing a Model"
   ]
  },
  {
   "cell_type": "markdown",
   "id": "4f599466",
   "metadata": {},
   "source": [
    "It seems like the SVM performed better than the LSTM architecture where the LSTM is not generalizing well on unseen data. so, I am saving the SVM model for resume classification"
   ]
  },
  {
   "cell_type": "code",
   "execution_count": 31,
   "id": "be0c3ad0",
   "metadata": {},
   "outputs": [],
   "source": [
    "import pickle"
   ]
  },
  {
   "cell_type": "code",
   "execution_count": 32,
   "id": "01d7871f",
   "metadata": {},
   "outputs": [],
   "source": [
    "#saving the model\n",
    "with open('svm_model.pkl', 'wb') as model_file:\n",
    "    pickle.dump(model, model_file)"
   ]
  },
  {
   "cell_type": "code",
   "execution_count": 33,
   "id": "e85bf1e9",
   "metadata": {},
   "outputs": [],
   "source": [
    "# saving the vectorizer\n",
    "with open('tfidf_vectorizer.pkl', 'wb') as vectorizer_file:\n",
    "    pickle.dump(vectorizer, vectorizer_file)"
   ]
  }
 ],
 "metadata": {
  "kernelspec": {
   "display_name": "Python 3 (ipykernel)",
   "language": "python",
   "name": "python3"
  },
  "language_info": {
   "codemirror_mode": {
    "name": "ipython",
    "version": 3
   },
   "file_extension": ".py",
   "mimetype": "text/x-python",
   "name": "python",
   "nbconvert_exporter": "python",
   "pygments_lexer": "ipython3",
   "version": "3.9.12"
  }
 },
 "nbformat": 4,
 "nbformat_minor": 5
}
